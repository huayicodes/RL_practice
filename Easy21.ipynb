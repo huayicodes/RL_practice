{
 "cells": [
  {
   "cell_type": "markdown",
   "metadata": {},
   "source": [
    "# Easy 21\n",
    "The assignment details are [here](https://www.davidsilver.uk/wp-content/uploads/2020/03/Easy21-Johannes.pdf)"
   ]
  },
  {
   "cell_type": "markdown",
   "metadata": {},
   "source": [
    "## 1. Implementation of Easy21 "
   ]
  },
  {
   "cell_type": "code",
   "execution_count": 1,
   "metadata": {},
   "outputs": [],
   "source": [
    "from typing import Tuple\n",
    "import random \n",
    "random.seed(101)\n",
    "\n",
    "class Easy21():\n",
    "    def __init__(self):\n",
    "        # initialize with a random black card          \n",
    "        self.s = [random.randint(1,10), random.randint(1,10)]\n",
    "        # initialize reward to be 0\n",
    "        self.r = 0 \n",
    "        self.is_terminal = False\n",
    "        self.__print_card()\n",
    "\n",
    "    def __print_card(self):\n",
    "        print(f\"Dealer card: {self.s[0]}\")\n",
    "        print(f\"Player card: {self.s[1]}\")\n",
    "\n",
    "    def __draw_card(self) -> int:\n",
    "        card_number = random.randint(1,10)\n",
    "        card_color = random.choice([-1,1,1])\n",
    "        return card_number * card_color \n",
    "\n",
    "    def __check_bust(self, checked_state: int, role: str) -> bool:\n",
    "        if checked_state > 21 or checked_state < 1:\n",
    "            self.is_terminal = True\n",
    "            # update values accordingly \n",
    "            if role == 'dealer':\n",
    "                self.r = 1 \n",
    "            elif role == 'player':\n",
    "                self. r = -1\n",
    "            return True\n",
    "        return False \n",
    "\n",
    "    def __hit_update(self, state: int, role:str) -> int:\n",
    "        # draw new card \n",
    "        new_card = self.__draw_card()\n",
    "        print(f'New card: {new_card}')\n",
    "        # update state \n",
    "        state += new_card \n",
    "        if role == 'dealer':\n",
    "            self.s =(state, self.s[1])\n",
    "        elif role == 'player':\n",
    "            self.s = (self.s[0], state)\n",
    "        self.__print_card()\n",
    "        return state\n",
    "\n",
    "    def step(self, a: str) -> Tuple[Tuple[int,int], int]:\n",
    "        \"\"\"\n",
    "        Parameters: \n",
    "            s (Tuple[int,int]): dealer's first card 1-10, the player's sum 1-21 \n",
    "            a (str): \"hit\" or \"stick\" \n",
    "            \n",
    "        Return:\n",
    "            s_next (Tuple[int,int]): the next state, \n",
    "                    including \"terminal\" if the game is finished\n",
    "            r (int): the rewards \n",
    "        \"\"\"\n",
    "        if self.is_terminal:\n",
    "            print('Last game has completed, please initiate a new one :)')\n",
    "            return self.s, self.r\n",
    "            \n",
    "        s_dealer, s_player = self.s\n",
    "        if a == 'hit':\n",
    "            s_player = self.__hit_update(s_player, 'player')\n",
    "            if self.__check_bust(s_player, 'player'):\n",
    "                return self.s, self.r\n",
    "        elif a == 'stick':\n",
    "            if s_dealer <17:\n",
    "                s_dealer = self.__hit_update(s_dealer, 'dealer')\n",
    "                if self.__check_bust(s_player, 'dealer'):\n",
    "                    return self.s, self.r\n",
    "            self.is_terminal = True\n",
    "            # check who's the largest         \n",
    "            if s_dealer > s_player:\n",
    "                self.r = -1\n",
    "            elif s_dealer < s_player:\n",
    "                self.r = 1\n",
    "            else:\n",
    "                self.r = 0\n",
    "        else:\n",
    "            raise Exception('Action must be either \"hit\" or \"stick\"')\n",
    "        return self.s, self.r"
   ]
  },
  {
   "cell_type": "code",
   "execution_count": 3,
   "metadata": {},
   "outputs": [
    {
     "name": "stdout",
     "output_type": "stream",
     "text": [
      "Dealer card: 10\n",
      "Player card: 4\n"
     ]
    }
   ],
   "source": [
    "game1= Easy21()"
   ]
  },
  {
   "cell_type": "code",
   "execution_count": 4,
   "metadata": {},
   "outputs": [
    {
     "name": "stdout",
     "output_type": "stream",
     "text": [
      "New card: 9\n",
      "Dealer card: 19\n",
      "Player card: 4\n"
     ]
    },
    {
     "data": {
      "text/plain": [
       "((19, 4), -1)"
      ]
     },
     "execution_count": 4,
     "metadata": {},
     "output_type": "execute_result"
    }
   ],
   "source": [
    "game1.step('stick')"
   ]
  },
  {
   "cell_type": "code",
   "execution_count": 5,
   "metadata": {},
   "outputs": [
    {
     "name": "stdout",
     "output_type": "stream",
     "text": [
      "Last game has completed, please initiate a new one :)\n"
     ]
    },
    {
     "data": {
      "text/plain": [
       "((19, 4), -1)"
      ]
     },
     "execution_count": 5,
     "metadata": {},
     "output_type": "execute_result"
    }
   ],
   "source": [
    "game1.step('stick')"
   ]
  },
  {
   "cell_type": "code",
   "execution_count": null,
   "metadata": {},
   "outputs": [],
   "source": []
  },
  {
   "cell_type": "code",
   "execution_count": null,
   "metadata": {},
   "outputs": [],
   "source": []
  },
  {
   "cell_type": "code",
   "execution_count": null,
   "metadata": {},
   "outputs": [],
   "source": []
  },
  {
   "cell_type": "code",
   "execution_count": null,
   "metadata": {},
   "outputs": [],
   "source": []
  },
  {
   "cell_type": "code",
   "execution_count": null,
   "metadata": {},
   "outputs": [],
   "source": []
  },
  {
   "cell_type": "code",
   "execution_count": null,
   "metadata": {},
   "outputs": [],
   "source": []
  },
  {
   "cell_type": "code",
   "execution_count": null,
   "metadata": {},
   "outputs": [],
   "source": []
  },
  {
   "cell_type": "markdown",
   "metadata": {},
   "source": []
  },
  {
   "cell_type": "code",
   "execution_count": null,
   "metadata": {},
   "outputs": [],
   "source": []
  }
 ],
 "metadata": {
  "interpreter": {
   "hash": "bafa9ab60f8a0996e2444949ee428d55e2e1aca6193dd792cb1992eb21542f36"
  },
  "kernelspec": {
   "display_name": "Python 3.8.9 ('venv': venv)",
   "language": "python",
   "name": "python3"
  },
  "language_info": {
   "codemirror_mode": {
    "name": "ipython",
    "version": 3
   },
   "file_extension": ".py",
   "mimetype": "text/x-python",
   "name": "python",
   "nbconvert_exporter": "python",
   "pygments_lexer": "ipython3",
   "version": "3.8.9"
  },
  "orig_nbformat": 4
 },
 "nbformat": 4,
 "nbformat_minor": 2
}
